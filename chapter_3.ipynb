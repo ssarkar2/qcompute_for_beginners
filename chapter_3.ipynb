{
 "cells": [
  {
   "cell_type": "markdown",
   "id": "0f812b7a-b729-49fa-8e87-b0cfa2477e5a",
   "metadata": {},
   "source": [
    "# Chapter 3: Spins and Qubits\n",
    "\n",
    "A qubit has a hidden spin state (described by a unit vector in R<sup>2</sup>). Because of the uncertainly principle, we cannot directly observe this state without changing it. When we measure it, we observe either \"0\" or \"1\" one of the states with a certain probability (given by teh direction of the measurement and the state of the Qubit).\n",
    "\n",
    "1. Choose a direction of measurement. This is akin to creating a `Measurement` object, by passing it an `OrderedOrthonormalBases`\n",
    "2. Create a Qubit, using the `Qubit` class\n",
    "3. Measure the qubit using the measurement : `out = q0.get_measured(msmt)`. This returns a 0 or a 1, and changes the state of qubit\n",
    "\n",
    "We will look at more detains in the next few sections"
   ]
  },
  {
   "cell_type": "markdown",
   "id": "5234ccbf-6ed7-442a-a6f0-8efba5bd0c6d",
   "metadata": {},
   "source": [
    "## Measurement\n",
    "\n",
    "The measuring process involves an orthonormal matrix (direction of measurement) and the qubit (with its unobservable spin state, a Ket in R<sup>2</sup>)\n",
    "\n",
    "Consider the measurement matrix:\n",
    "\n",
    "$$A = \\begin{bmatrix} a & c \\\\ b & d \\end{bmatrix}$$\n",
    "\n",
    "and a qubit with state vector \n",
    "$$v = \\begin{bmatrix} x \\\\ y \\end{bmatrix}$$\n",
    "\n",
    "We multiply $A^T * v$\n",
    "\n",
    "$$d = \\begin{bmatrix} ax + by \\\\ cx + dy \\end{bmatrix}$$\n",
    "\n",
    "Or we can express `v` in terms of the basis vectors as:\n",
    "$$v = (ax + by) * \\begin{bmatrix} a\\\\ b \\end{bmatrix} + (cx + dy) * \\begin{bmatrix} c\\\\ d \\end{bmatrix}$$\n",
    "\n",
    "Lets call these weights $w_0$ and $w_1$, ie $w_0 = ax+by$ and $w_1 = cx+dy$\n",
    "\n",
    "Then with probability $w_0^2$ the qubit is measured as being in state 0 and its internal state flips to $\\begin{bmatrix} a  \\\\ b \\end{bmatrix}$ (the first direction of measurement). But also there is a probability $w_1^2$ with which the qubit is measured to be 1 and its state flips to $\\begin{bmatrix} c  \\\\ d \\end{bmatrix}$ (the second direction of measurement)\n",
    "\n",
    "### Angle of measurement\n",
    "For a certain angle `x` (in degrees), we can create the measurement object like so:\n",
    "`msmt = Measurement(theta = deg_to_rad(x))`\n",
    "\n",
    "The formula for the matrix is given by:\n",
    "$$M = \\begin{bmatrix} cos(x/2) & sin(x/2) \\\\ -sin(x/2) & cos(x/2) \\end{bmatrix}$$\n"
   ]
  },
  {
   "cell_type": "markdown",
   "id": "b2f1ed2c-fa6e-4125-95c1-24b2a99af1da",
   "metadata": {},
   "source": [
    "## Measuring a qubit multiple times in the same direction\n",
    "\n",
    "If we measure the qubit in one direction, its state flips to one of the basis vector directions of the measurement. Therefore on second (and furthur) measurements in the same direction (using the same measurement matrix), we will keep getting back the same bit we measured, as there is no probability amplitude in the other direction\n",
    "\n",
    "$$M = \\begin{bmatrix} a & c \\\\ b & d \\end{bmatrix}, a^2 + b^2 = 1, ac+bd = 0, c^2+d^2=1$$\n",
    "$$q = \\begin{bmatrix} x \\\\ y \\end{bmatrix}$$\n",
    "\n",
    "$$ m = M^T*q = \\begin{bmatrix} ax+by \\\\ cx+dy \\end{bmatrix} $$\n",
    "Now with probability $(ax+by)^2$ the qubit's state changes to $\\begin{bmatrix} a  \\\\ b  \\end{bmatrix}$, or state `0`\n",
    "\n",
    "Now for the next measurement:\n",
    "$$q = \\begin{bmatrix} a \\\\ b \\end{bmatrix}$$\n",
    "\n",
    "$$M^T * q = \\begin{bmatrix} a^2+b^2 \\\\ ca+db \\end{bmatrix} $$\n",
    "But $M$ was orthonormal, so the newly measured value is:\n",
    "$$M^T * q = \\begin{bmatrix} 1 \\\\ 0 \\end{bmatrix} $$\n",
    "\n",
    "Thus with probability `1`, we get the earlier state\n"
   ]
  },
  {
   "cell_type": "code",
   "execution_count": 3,
   "id": "f983c912-05b8-47c6-bafb-1b933c775511",
   "metadata": {},
   "outputs": [],
   "source": [
    "from basics import Qubit, Measurement\n",
    "from utils import deg_to_rad\n",
    "\n",
    "msmt = Measurement(theta = deg_to_rad(90))\n",
    "num_expts = 100\n",
    "q0 = Qubit()\n",
    "for i in range(num_expts):\n",
    "    out = q0.get_measured(msmt)\n",
    "    if i == 0:\n",
    "        res = out\n",
    "    else:\n",
    "        assert out == res # the result should never change if we measure later using the same measurement matrix"
   ]
  },
  {
   "cell_type": "markdown",
   "id": "f6e7b212-d3c7-4243-b31d-71cd0c47be32",
   "metadata": {},
   "source": [
    "## Measuring multiple qubits in a direction\n",
    "\n",
    "Since measurement is probabilistic, we need to perform multiple experiments to get the mean values.\n",
    "\n",
    "In this experiment, we fix a direction of measurement, and then measure multiple different qubits with it. Given the measurement process described above, we expect \"0\" 50% of the time for any direction\n",
    "\n"
   ]
  },
  {
   "cell_type": "code",
   "execution_count": 9,
   "id": "9d50a5ba-7b0d-47da-a079-fe948d884e16",
   "metadata": {},
   "outputs": [
    {
     "name": "stdout",
     "output_type": "stream",
     "text": [
      "Measuring in direction 0\n",
      "0.518\n",
      "Measuring in direction 45\n",
      "0.529\n",
      "Measuring in direction 90\n",
      "0.518\n"
     ]
    }
   ],
   "source": [
    "from basics import Qubit, Measurement\n",
    "from utils import deg_to_rad, is_close\n",
    "\n",
    "for direction in [0, 45, 90]:\n",
    "    print(f'Measuring in direction', direction)\n",
    "    msmt = Measurement(theta = deg_to_rad(direction))  # what if we have other angles?\n",
    "    num_zero = 0\n",
    "    num_expts = 1000\n",
    "    for i in range(num_expts):\n",
    "        q0 = Qubit()\n",
    "        out = q0.get_measured(msmt)\n",
    "        if out == 0:\n",
    "            num_zero += 1\n",
    "    print (num_zero / num_expts)\n",
    "    # Any direction we choose, when we measure a random bunch of qubits, they will be 0 (or 1) 50% of the time"
   ]
  },
  {
   "cell_type": "markdown",
   "id": "2c260768-9311-487e-85f4-0851d154838a",
   "metadata": {},
   "source": [
    "## Measuring a qubit twice in 2 different directions\n",
    "Lets first measure a qubit at 0 degree. Say its state after that measurement is '0' or $\\begin{bmatrix} 1 \\\\ 0  \\end{bmatrix}$\n",
    "\n",
    "\n",
    "### First 0, then 90\n",
    "\n",
    "After measuring at 0 degree, say we measure it at 90 degree, which corresponds to the measurement matrix:\n",
    "$$\\begin{bmatrix} 1/\\sqrt 2  & 1/\\sqrt 2  \\\\ -1/\\sqrt 2  & 1/\\sqrt 2  \\end{bmatrix}$$\n",
    "\n",
    "measuring the qubit with this matrix gives us:\n",
    "$$\\begin{bmatrix} 1/\\sqrt 2  & -1/\\sqrt 2  \\\\ 1/\\sqrt 2  & 1/\\sqrt 2  \\end{bmatrix} * \\begin{bmatrix} 1 \\\\ 0  \\end{bmatrix} = \\begin{bmatrix} 1/\\sqrt 2 \\\\ 1/\\sqrt 2  \\end{bmatrix}$$\n",
    "\n",
    "Squaring the numbers we see there is `0.5` probability for either bit\n",
    "\n",
    "### First 0, then 60\n",
    "For 60 degree, the measurement matrix is:\n",
    "$$\\begin{bmatrix} \\sqrt 3 / 2  & 1/ 2  \\\\ -1/ 2  & \\sqrt 3 / 2  \\end{bmatrix}$$\r",
    "measuring the qubit with this matrix gives us:\n",
    "$$\\begin{bmatrix} \\sqrt 3 / 2  & 1/ 2  \\\\ -1/ 2  & \\sqrt 3 / 2  \\end{bmatrix} * \\begin{bmatrix} 1 \\\\ 0  \\end{bmatrix} = \\begin{bmatrix}  \\sqrt 3 / 2 \\\\ 1/2  \\end{bmatrix}$$\n",
    "\n",
    "Squaring the amplitudes, we see at this angle, we have 0.75 chance for bit 0, and 0.25 chance for bit 1\n",
    "\n",
    "The following code snippet shows the above simulation\n",
    "\n"
   ]
  },
  {
   "cell_type": "code",
   "execution_count": 8,
   "id": "91859c7c-e365-4f82-8552-667fb480780f",
   "metadata": {},
   "outputs": [
    {
     "name": "stdout",
     "output_type": "stream",
     "text": [
      "measure at 0, then 90 0.5121951219512195\n",
      "measure at 0, then 60 0.7409638554216867\n"
     ]
    }
   ],
   "source": [
    "for degree in [90, 60]:\n",
    "    msmt0 = Measurement(theta = deg_to_rad(0))\n",
    "    msmt_rotate = Measurement(theta = deg_to_rad(degree))\n",
    "    num_expts = 1000\n",
    "    num_zero = 0\n",
    "    counts = {}\n",
    "    for i in range(num_expts):\n",
    "        q0 = Qubit()\n",
    "        out0 = q0.get_measured(msmt0)\n",
    "        out1 = q0.get_measured(msmt_rotate)\n",
    "        counts[(out0, out1)] = counts.get((out0, out1), 0) + 1\n",
    "        if out1 == 0:\n",
    "            num_zero += 1\n",
    "    # probability that it is 0 after second msmt, given it was 0 after first msmt\n",
    "    p_m1_0_m0_0 = counts[(0,0)] / (counts[(0,0)] + counts[(0,1)])\n",
    "    print(f'measure at 0, then {degree}', p_m1_0_m0_0)"
   ]
  },
  {
   "cell_type": "markdown",
   "id": "91cba23c-26e7-4950-b7ac-eebf16c86268",
   "metadata": {},
   "source": [
    "## Communication\n",
    "\n",
    "Lets say we have Alice and Bob who want to communicate, and Eve wants to evesdrop. Let Alice choose measurement bases $ (\\ket{a_0}, \\ket{a_1} )$, and Bob chooses $ (\\ket{b_0}, \\ket{b_1} )$. Therefore whatever qubit Alice transmits will be either in state \\ket{a_0} or \\ket{a_1}. When she wants to send a 0, she sends a qubit that has been measured 0 (and thus has state \\ket{a_0}). Bob will measure it and get: $\\ket{a_0} = d_0\\ket{b_0} + d_1\\ket{b_1}$. Therefore with probability $d_0^2$, he will correctly read the 0 bit from Alice as 0.\n",
    "\n",
    "This transmission sounds noisy, however the crux of the matter is, if Eve intercepts the qubit sent from Alice and tries to read it, it will change the state, and that could be detected.\n",
    "\n",
    "### BB84 protocol\n",
    "Finally an interesting application. Alice and Bob wants to exchange a key for future cryptographic exchanges, but they want to detect if someone has eavesdropped on the transmitted message\n",
    "\n",
    "We start with 2 bases, standard (vertical) and horizontal:\n",
    "\n",
    "$$V = \\begin{bmatrix} 1  & 0  \\\\ 0  & 1  \\end{bmatrix}$$\n",
    "$$H = \\begin{bmatrix} 1/\\sqrt 2  & 1/\\sqrt 2  \\\\ -1/\\sqrt 2  & 1/\\sqrt 2  \\end{bmatrix}$$\n",
    "\n",
    "1. Alice chooses a long key (binary string of 0 and 1s) of length $4n$\n",
    "2. For each bit she chooses $H$ or $V$ equiprobably, and then she sends Bob the corresponding qubit. For example if her bit is `1` and she choose $V$, she will measure a qubit with $V$, till she observes 1 (internal state $\\begin{bmatrix} 0  \\\\ 1  \\end{bmatrix}$), and then send this to Bob\n",
    "3. Bob chooses a $H$ or $V$ equiprobably and measures the qubit Alice sent\n",
    "4. Probabilistically, Half the time Alice and Bob will end up using the same measurement basis (and they will then get the same exact bit), while in the other half of cases Bob will guess the right bit from Alice with `0.5` probability. Alice and Bob compare their choice of $V$ and $H$, and keep the observed bits where they used the same measurement. They expect around half ($2n$) bits to remain after this step\n",
    "\n",
    "#### Detecting Eve\n",
    "\n",
    "Eve can only guess the basis being used. Thus in the $2n$ bits where Alice and Bob chose the same basis (after step 4 above), Eve will be right half the time (and all three will get the same bit), but the other times, she will change the qubit's state, and thus when Bob measures it he will only get the bit as Alice half the time.\n",
    "\n",
    "Now of the remaining $2n$ bits, Alice and Bob compare $n$ of them over an unencrypted line. If the match exactly, Eve wasnt there, and they use the leftover $n$bits as their secret key. However if they dont match, they have successfully detected Eve listening in."
   ]
  },
  {
   "cell_type": "code",
   "execution_count": 17,
   "id": "4cb67c78-c619-4039-9d9e-c3bbfb5b2de2",
   "metadata": {},
   "outputs": [
    {
     "name": "stdout",
     "output_type": "stream",
     "text": [
      "Percentage match 1.0\n",
      "No Eve detected, key transfer successful\n",
      "Percentage match 1.0\n",
      "No Eve detected, key transfer successful\n"
     ]
    }
   ],
   "source": [
    "V = Measurement(theta = deg_to_rad(0))\n",
    "H = Measurement(theta = deg_to_rad(90))\n",
    "import random\n",
    "\n",
    "for eve in [True, False]:\n",
    "    \n",
    "    # Alice\n",
    "    n = 1024\n",
    "    alice_msmt = []\n",
    "    # Alice decides a key\n",
    "    msg_to_send = [int(random.random() < 0.5) for i in range(4*n)] # A binary string of length 4n\n",
    "    qubit_to_send = []\n",
    "    for bit_to_send in msg_to_send:\n",
    "        #Alice decides a msmt base for each bit\n",
    "        rnd = random.random() < 0.5\n",
    "        msmt = V if rnd else H # Alice picks a random measurement base\n",
    "        alice_msmt += [('h','v')[rnd]]\n",
    "        while True:\n",
    "            q = Qubit()\n",
    "            out = q.get_measured(msmt)\n",
    "            if out == bit_to_send:\n",
    "                break\n",
    "        qubit_to_send += [q]\n",
    "\n",
    "\n",
    "    if eve:\n",
    "        \n",
    "    \n",
    "    \n",
    "    # Bob received qubit_to_send\n",
    "    qubits_received_by_bob = qubit_to_send\n",
    "    bob_msmt = []\n",
    "    msg_read_by_bob = []\n",
    "    for q in qubits_received_by_bob:\n",
    "        rnd = random.random() < 0.5\n",
    "        msmt = V if rnd else H # Bob picks a random measurement base\n",
    "        bob_msmt += [('h','v')[rnd]]\n",
    "        msg_read_by_bob += [q.get_measured(msmt)]\n",
    "    \n",
    "    \n",
    "    # Now Alice and Bob compare their bases:\n",
    "    matching_bases = [i==j for i, j in zip(alice_msmt, bob_msmt)]\n",
    "    \n",
    "    \n",
    "    #Alice throws out non matching ones:\n",
    "    filtered_msg_alice = [i for i, match in zip(msg_to_send, matching_bases) if match]\n",
    "    \n",
    "    #Bob throws out non matching ones:\n",
    "    filtered_msg_bob = [i for i, match in zip(msg_read_by_bob, matching_bases) if match]\n",
    "    \n",
    "    # Now they match half of the remaining messages:\n",
    "    nbits_to_check = len(filtered_msg_alice)//2\n",
    "    msg_from_alice = filtered_msg_alice[:nbits_to_check]\n",
    "    msg_from_bob = filtered_msg_bob[:nbits_to_check]\n",
    "    \n",
    "    perc_match = sum([i==j for i, j in zip(msg_from_alice, msg_from_bob)]) / len(msg_from_bob)\n",
    "    print('Percentage match', perc_match)\n",
    "    \n",
    "    if perc_match == 1.0:\n",
    "        alice_key = filtered_msg_alice[nbits_to_check:]\n",
    "        bob_key = filtered_msg_bob[nbits_to_check:]\n",
    "        print('No Eve detected, key transfer successful')\n",
    "    else:\n",
    "        print('Eve detected')"
   ]
  },
  {
   "cell_type": "code",
   "execution_count": null,
   "id": "704611ce-2536-4fbd-9358-d7cbc75ff37a",
   "metadata": {},
   "outputs": [],
   "source": []
  }
 ],
 "metadata": {
  "kernelspec": {
   "display_name": "Python 3 (ipykernel)",
   "language": "python",
   "name": "python3"
  },
  "language_info": {
   "codemirror_mode": {
    "name": "ipython",
    "version": 3
   },
   "file_extension": ".py",
   "mimetype": "text/x-python",
   "name": "python",
   "nbconvert_exporter": "python",
   "pygments_lexer": "ipython3",
   "version": "3.8.10"
  }
 },
 "nbformat": 4,
 "nbformat_minor": 5
}
