{
 "cells": [
  {
   "cell_type": "markdown",
   "id": "c7a434f4-abac-4fb3-8507-d67376bb5aec",
   "metadata": {},
   "source": [
    "# Chapter 2: Linear Algebra"
   ]
  },
  {
   "cell_type": "markdown",
   "id": "fd35a5f1-2a18-429d-8dd8-9195151ee39c",
   "metadata": {},
   "source": [
    "We will work with $R^2$ instead of complex numbers, to simplify matters. Also we will assume some familiarity of the reader with vectors/matrices, so the notes here are very succinct\n",
    "\n",
    "## Bra and Ket\n",
    "\n",
    "**Bra** is a row vector, denoted by $\\bra{a}$, while **Ket** is a column vector denoted by $\\ket{b}$\n",
    "We can create them as follows, and can perform ops like printing them, scalar multiplication, addition, equality check etc on them \n",
    "\n",
    "Examples:\n",
    "\n",
    "$$\\bra{a} = \\begin{bmatrix} 1 & 2 \\end{bmatrix}$$\n",
    "$$\\ket{b} = \\begin{bmatrix} 1  \\\\ 2  \\end{bmatrix}$$\n"
   ]
  },
  {
   "cell_type": "code",
   "execution_count": 12,
   "id": "4962375c-a9c1-4eb9-a3c9-1d1385bb71de",
   "metadata": {},
   "outputs": [
    {
     "name": "stdout",
     "output_type": "stream",
     "text": [
      "adding bra[x:4.0, y:0.0]\n",
      "checking transpose True\n",
      "scalar mult bra[x:4.0, y:0.0]\n"
     ]
    }
   ],
   "source": [
    "from lin_alg import Vector\n",
    "\n",
    "b0 = Vector.Bra(2.0,0.0)\n",
    "b1 = Vector(2.0, 0.0, \"bra\")\n",
    "\n",
    "print(\"adding\", b0+b1)\n",
    "k0 = Vector(2.0, 0.0, \"ket\")\n",
    "k0_t = k0.t() # transposing\n",
    "print(\"checking transpose\", b0 == k0_t)\n",
    "\n",
    "print(\"scalar mult\", 2.0*b0)"
   ]
  },
  {
   "cell_type": "markdown",
   "id": "31fad9f1-25f1-4ee7-bc3d-1a6de0882426",
   "metadata": {},
   "source": [
    "## Dot product\n",
    "Therefore dot products are \"brakets\" or `<a|b>`, which lends this notation its name\n",
    "\n",
    "The transpose of `|a>` would be `<a|`, and therefore the magnitude of the vector would be: `sqrt(<a|a>)`\n",
    "\n",
    "If the magnitude is `1`, we call it a \"unit\" vector. We can get the magnitude using `magnitude()` and we can create unit vectors from a given vector using the `normalize()` call (which divides the vector by its magnitude)\n",
    "\n",
    "Given `<a|` and `|b>`\n",
    "\n",
    "$$\\bra{a} = \\begin{bmatrix} 1 & 2 \\end{bmatrix}$$\n",
    "\n",
    "$$\\ket{b} = \\begin{bmatrix} 3 \\\\ 4 \\end{bmatrix}$$\n",
    "$$\\braket{a|b} = 1 * 3 + 2 * 4 = 11$$\n"
   ]
  },
  {
   "cell_type": "code",
   "execution_count": 18,
   "id": "df61eff3-d551-45ec-87dc-d90bbaf4e2e3",
   "metadata": {},
   "outputs": [
    {
     "name": "stdout",
     "output_type": "stream",
     "text": [
      "a dot product 4.0\n",
      "square of magnitude of b0 4.0\n",
      "magnitude of b0 2.0\n",
      "Unit vector in the direction of b0 bra[x:1.0, y:0.0]\n"
     ]
    }
   ],
   "source": [
    "# Example of dot product\n",
    "print(\"a dot product\", b0 * k0)\n",
    "\n",
    "# Magnitudes\n",
    "print(\"square of magnitude of b0\", b0 * b0.t())\n",
    "print(\"magnitude of b0\", b0.magnitude())\n",
    "\n",
    "# Normalizing a vector\n",
    "print(\"Unit vector in the direction of b0\", b0.normalize())"
   ]
  },
  {
   "cell_type": "markdown",
   "id": "97d7b71c-3157-4552-a25f-c9fcae725714",
   "metadata": {},
   "source": [
    "## Orthogonality\n",
    "If the dot product of a bra and a ket is 0, they are orthogonal\n",
    "If they are unit vectors as well, we call them orthonormal\n",
    "\n",
    "Thus if we have $\\ket{k_0}$ and $\\ket{k_1}$, then these two are orthonormal iff $$\\braket{k_0 | k_0}=1, \\braket{k_1 | k_1}=1, \\braket{k_0 | k_1} = \\braket{k_1 | k_0} = 0$$\n",
    "\n",
    "We can arrange a list of mutually orthonormal Kets into a matrix. In code we represent this by an `OrderedOrthonormalBases`"
   ]
  },
  {
   "cell_type": "code",
   "execution_count": 20,
   "id": "0d3bb501-fc91-4797-b56d-7b4e3d755e0e",
   "metadata": {},
   "outputs": [
    {
     "name": "stdout",
     "output_type": "stream",
     "text": [
      "[ket[x:1.0, y:0.0]; ket[x:0.0, y:1.0]]\n"
     ]
    }
   ],
   "source": [
    "from lin_alg import OrderedOrthonormalBases\n",
    "\n",
    "k0 = Vector.Ket(1.0,0.0)\n",
    "k1 = Vector.Ket(0.0,1.0)\n",
    "m = OrderedOrthonormalBases(k0, k1)\n",
    "print(m)"
   ]
  },
  {
   "cell_type": "markdown",
   "id": "a6d4a4b1-be47-4ca9-a975-8685037ea38a",
   "metadata": {},
   "source": [
    "## Matrix vector multiplication\n",
    "\n",
    "Matrices can be written as ordered columns of Kets\n",
    "\n",
    " $$A = \\begin{bmatrix} k_0 & k_1  \\end{bmatrix}$$\n",
    "\n",
    "Given another ket k, we can perform A<sup>T</sup> * k on it like this:\n",
    "\n",
    "$$\\begin{bmatrix} k_0 \\\\ k_1 \\end{bmatrix} * k $$ \n",
    "$$\\begin{bmatrix} \\braket{k_0|k} \\\\ \\braket{k_1|k}  \\end{bmatrix}  $$\n",
    "\n",
    "\n",
    "Code example shown below.\n"
   ]
  },
  {
   "cell_type": "code",
   "execution_count": 24,
   "id": "8c433dd0-f4c6-4fe1-bf7c-ee7898c5a938",
   "metadata": {},
   "outputs": [
    {
     "name": "stdout",
     "output_type": "stream",
     "text": [
      "matrix vector mult ket[x:1.0, y:0.0]\n"
     ]
    }
   ],
   "source": [
    "print('matrix vector mult', m * k0)"
   ]
  },
  {
   "cell_type": "markdown",
   "id": "df1c5a3c-99cd-4ad8-83bc-79765bf1bd5e",
   "metadata": {},
   "source": [
    "## A fundamental toolkit\n",
    "Now we have the tools to describe a common workflow we will need in upcoming chapters:\n",
    "\n",
    "1. Construct a Orthogonal matrix- (A<sup>T</sup>A = I). In code, construct `OrderedOrthonormalBases`, which checks that its inputs are orthonormal to each other. Thus this is a valid list of bases, and other vectors can be decomposed to this basis\n",
    "2. Given an `OrderedOrthonormalBases` `m` and a ket `v`, we can perform `m*v` to get the decomposition of `v` in terms of the basis present in `m`\n",
    "\n"
   ]
  },
  {
   "cell_type": "code",
   "execution_count": 33,
   "id": "cbe142b6-1441-4ff4-a0c8-03f90eb4eb9d",
   "metadata": {},
   "outputs": [
    {
     "name": "stdout",
     "output_type": "stream",
     "text": [
      "We expect the decompsition and the original to have same magnitude 1.414213562373095 1.4142135623730951\n",
      "We expect the linear combination of the decomposed weights and the basis to give back the original ket[x:0.9999999999999999, y:0.9999999999999999]\n"
     ]
    }
   ],
   "source": [
    "\n",
    "k0 = Vector.Ket(0.7071067811865476, -0.7071067811865475)\n",
    "k1 = Vector.Ket(0.7071067811865475, 0.7071067811865476)\n",
    "m = OrderedOrthonormalBases(k0, k1)\n",
    "\n",
    "k0 = Vector.Ket(1.0, 1.0)\n",
    "\n",
    "decomposition = m * k0\n",
    "\n",
    "print('We expect the decompsition and the original to have same magnitude', decomposition.magnitude(), k0.magnitude())\n",
    "\n",
    "print('We expect the linear combination of the decomposed weights and the basis to give back the original', decomposition.x * m.k0 + decomposition.y * m.k1)\n"
   ]
  },
  {
   "cell_type": "code",
   "execution_count": null,
   "id": "ff8765db-0432-45da-a397-05160008f219",
   "metadata": {},
   "outputs": [],
   "source": []
  }
 ],
 "metadata": {
  "kernelspec": {
   "display_name": "Python 3 (ipykernel)",
   "language": "python",
   "name": "python3"
  },
  "language_info": {
   "codemirror_mode": {
    "name": "ipython",
    "version": 3
   },
   "file_extension": ".py",
   "mimetype": "text/x-python",
   "name": "python",
   "nbconvert_exporter": "python",
   "pygments_lexer": "ipython3",
   "version": "3.8.10"
  }
 },
 "nbformat": 4,
 "nbformat_minor": 5
}
